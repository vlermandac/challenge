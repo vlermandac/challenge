{
 "cells": [
  {
   "cell_type": "markdown",
   "metadata": {},
   "source": [
    "En este archivo puedes escribir lo que estimes conveniente. Te recomendamos detallar tu solución y todas las suposiciones que estás considerando. Aquí puedes ejecutar las funciones que definiste en los otros archivos de la carpeta src, medir el tiempo, memoria, etc."
   ]
  },
  {
   "cell_type": "markdown",
   "metadata": {},
   "source": [
    "First I splitted the data into chunks. The main reason was to push it to github due to the 300 mb file size limit.\n",
    "Apart from that, working in chunks implies that we don't need to keep all the data in memory while processing."
   ]
  },
  {
   "cell_type": "code",
   "execution_count": 12,
   "metadata": {},
   "outputs": [],
   "source": [
    "from concurrent.futures import ThreadPoolExecutor, as_completed\n",
    "from typing import List, Callable, Tuple, Any\n",
    "import os\n",
    "import q1\n",
    "import q2\n",
    "import q3\n",
    "\n",
    "data_dir = \"../data\"\n",
    "json_files = [os.path.join(data_dir, f) for f in os.listdir(data_dir) if f.endswith('.json')]"
   ]
  },
  {
   "cell_type": "code",
   "execution_count": 10,
   "metadata": {},
   "outputs": [],
   "source": [
    "def run_function(func: Callable[[str], List[Any]], file_paths: str) -> List[Tuple[Any, Any]]:\n",
    "    combined_results = []\n",
    "    with ThreadPoolExecutor() as executor:\n",
    "        futures = {executor.submit(func, file_path): file_path for file_path in file_paths}\n",
    "        for future in as_completed(futures):\n",
    "            result = future.result()\n",
    "            combined_results.extend(result)\n",
    "    combined_results.sort(key=lambda x: x[0], reverse=True)\n",
    "    top_10 = combined_results[:10]\n",
    "    return top_10"
   ]
  },
  {
   "cell_type": "code",
   "execution_count": 11,
   "metadata": {},
   "outputs": [
    {
     "data": {
      "text/plain": [
       "[(12347, datetime.date(2021, 2, 12), 'RanbirS00614606'),\n",
       " (11132, datetime.date(2021, 2, 13), 'MaanDee08215437'),\n",
       " (11087, datetime.date(2021, 2, 17), 'RaaJVinderkaur'),\n",
       " (10249, datetime.date(2021, 2, 14), 'rebelpacifist'),\n",
       " (9197, datetime.date(2021, 2, 15), 'jot__b'),\n",
       " (8502, datetime.date(2021, 2, 20), 'MangalJ23056160'),\n",
       " (8417, datetime.date(2021, 2, 23), 'Surrypuria'),\n",
       " (8204, datetime.date(2021, 2, 19), 'Preetm91'),\n",
       " (7071, datetime.date(2021, 2, 22), 'preetysaini321'),\n",
       " (6571, datetime.date(2021, 2, 16), 'jot__b')]"
      ]
     },
     "execution_count": 11,
     "metadata": {},
     "output_type": "execute_result"
    }
   ],
   "source": [
    "top_10 = run_function(q1.q1_time, json_files)\n",
    "top_10"
   ]
  }
 ],
 "metadata": {
  "kernelspec": {
   "display_name": "Python 3",
   "language": "python",
   "name": "python3"
  },
  "language_info": {
   "codemirror_mode": {
    "name": "ipython",
    "version": 3
   },
   "file_extension": ".py",
   "mimetype": "text/x-python",
   "name": "python",
   "nbconvert_exporter": "python",
   "pygments_lexer": "ipython3",
   "version": "3.12.7"
  },
  "orig_nbformat": 4
 },
 "nbformat": 4,
 "nbformat_minor": 2
}
