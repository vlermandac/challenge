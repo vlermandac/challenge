{
 "cells": [
  {
   "cell_type": "markdown",
   "metadata": {},
   "source": [
    "# Challenge LATAM"
   ]
  },
  {
   "cell_type": "markdown",
   "metadata": {},
   "source": [
    "## Preámbulo\n",
    "Primero, solo con ver el archivo json en un editor de texto, ya se pueden notar algunas cosas:\n",
    "1. La documentación de las instrucciones no se corresponde con la versión de la API de los datos.\n",
    "2. Cada linea del archivo corresponde a un entrada/objeto distinto, los cuales son tweets.\n",
    "\n",
    "Luego, para poder visualizar y entender mejor la estructura de cada objeto json utilizo el comando de shell:\n",
    "\n",
    "```Bash\n",
    "cat farmers-protest-tweets-2021-2-4.json | jq\n",
    "```\n",
    "\n",
    "el cual realiza un \"pretty print\", es decir, imprime el json parseado y coloreado en la terminal."
   ]
  },
  {
   "cell_type": "markdown",
   "metadata": {},
   "source": [
    "## Respecto a los Datos\n",
    "\n",
    "Se puede notar que el json tiene un peso considerable ($≈380$ mb) considerando que es solo un archivo de texto, por lo que podría ser una buena idea evitar tener el total de los datos en memoria a la hora de procesarlos.\n",
    "\n",
    "Lo anterior, sumado a que por su tamaño tampoco se puede subir a github (limite de 100mb por archivo), me hizo decidir dividir el archivo en partes.\n",
    "\n",
    "La manera más elegante de hacerlo sería leer el json como stream e ir manejando un buffer de tamaño menor a $100$ mb, que al llenarse, escriba su contenido a un archivo json y luego se vacíe.\n",
    "\n",
    "Sin embargo en este caso es mucho más fácil dividir el archivo por lineas, en partes lo más iguales posibles. Para esto, cree un script de shell ('../utils/file_split.sh') el cual divide el json en $N$ archivos de $\\approx L/N$ lineas c/u donde $L$ es el número de lineas del archivo y $N$ un argumento, el cual decidí que fuera 5.\n",
    "\n",
    "Finalmente se obtuvo 5 archivos de $\\approx 77$ mb, y se pudieron subir a github."
   ]
  },
  {
   "cell_type": "markdown",
   "metadata": {},
   "source": [
    "## Soluciones"
   ]
  },
  {
   "cell_type": "markdown",
   "metadata": {},
   "source": [
    "Por temas de comodidad y orden, estructuré las soluciones de las 3 pruebas como módulos, cada uno en su propio directorio dentro de './src'. Además, los datos se ubicaron en la carpeta './data'.\n",
    "\n",
    "En cada archivo '\\__init__.py' de los módulos cree una \"interfaz\" o intermediario para la ejecución de las funciones. Esto con el fin de ejecutarlas en paralelo, aprovechando la partición previa de los datos, y optimizando el tiempo de ejecución para todas las funciones.\n",
    "\n",
    "_Cada solución está más detalla en sus códigos correspondientes._"
   ]
  },
  {
   "cell_type": "markdown",
   "metadata": {},
   "source": [
    "### Imports"
   ]
  },
  {
   "cell_type": "code",
   "execution_count": 1,
   "metadata": {},
   "outputs": [],
   "source": [
    "import os\n",
    "import pandas as pd\n",
    "from q1 import q1_time, q1_memory\n",
    "from q2 import q2_time, q2_memory\n",
    "from q3 import q3_time, q3_memory\n",
    "\n",
    "data_dir = \"../data\"\n",
    "json_files = [os.path.join(data_dir, f) for f in os.listdir(data_dir) if f.endswith('.json')]\n",
    "\n",
    "%load_ext memory_profiler"
   ]
  },
  {
   "cell_type": "markdown",
   "metadata": {},
   "source": [
    "### Problema 1\n",
    "\n",
    "La idea principal para la resolución de ambas versiones fue, comparar el rendimiento de el diccionario tradicional usado como contador, y otra versión donde además se agrega alguna otra estructura de datos que se ajuste bien al tipo de consultas que se hacen. En este caso, se utiliza el heap, con la idea de poder acceder a los elementos máximos con mayor rapidez."
   ]
  },
  {
   "cell_type": "code",
   "execution_count": 14,
   "metadata": {},
   "outputs": [],
   "source": [
    "q1t = q1_time(json_files)\n",
    "q1m = q1_memory(json_files)"
   ]
  },
  {
   "cell_type": "markdown",
   "metadata": {},
   "source": [
    "#### Profiling"
   ]
  },
  {
   "cell_type": "code",
   "execution_count": 25,
   "metadata": {},
   "outputs": [
    {
     "name": "stdout",
     "output_type": "stream",
     "text": [
      "2.52 s ± 34.8 ms per loop (mean ± std. dev. of 7 runs, 1 loop each)\n",
      "2.37 s ± 8.21 ms per loop (mean ± std. dev. of 7 runs, 1 loop each)\n"
     ]
    }
   ],
   "source": [
    "%timeit q1_time(json_files);\n",
    "%timeit q1_memory(json_files);"
   ]
  },
  {
   "cell_type": "code",
   "execution_count": 29,
   "metadata": {},
   "outputs": [
    {
     "name": "stdout",
     "output_type": "stream",
     "text": [
      "peak memory: 159.59 MiB, increment: 0.50 MiB\n",
      "peak memory: 156.17 MiB, increment: 0.16 MiB\n"
     ]
    }
   ],
   "source": [
    "%memit q1_time(json_files);\n",
    "%memit q1_memory(json_files);"
   ]
  },
  {
   "cell_type": "markdown",
   "metadata": {},
   "source": [
    "Para el tiempo, no se cumple lo predicho a través del análisis teórico. Esto se puede deber a varias cosas, entre ellas, que al paralelizar y crear más ejecuciones, la construcción de los heaps produjo tiempo adicional. Esto se podría demostrar realizando una única ejecución con el archivo json completo. \n",
    "\n",
    "La otra opción sería que, heapq, el módulo para utilizar heaps en python, sea más una \"emulación\" de la estructura, ya que necesita que se le entregue una lista de python para funcionar, lo que puede provocar que no se refleje el aporte de esta estructura debido a su construcción a tan alto nivel.\n",
    "\n",
    "Finalmente, esta la opción que en la práctica, simplemente ocurren muchos procesos por debajo que hacen el usar un diccionario más eficiente."
   ]
  },
  {
   "cell_type": "markdown",
   "metadata": {},
   "source": [
    "#### Resultados"
   ]
  },
  {
   "cell_type": "code",
   "execution_count": 15,
   "metadata": {},
   "outputs": [
    {
     "name": "stdout",
     "output_type": "stream",
     "text": [
      "Top 10 fechas con más tweets junto con el usuario que más tweets hizo en esa fecha\n"
     ]
    },
    {
     "data": {
      "text/html": [
       "<div>\n",
       "<style scoped>\n",
       "    .dataframe tbody tr th:only-of-type {\n",
       "        vertical-align: middle;\n",
       "    }\n",
       "\n",
       "    .dataframe tbody tr th {\n",
       "        vertical-align: top;\n",
       "    }\n",
       "\n",
       "    .dataframe thead th {\n",
       "        text-align: right;\n",
       "    }\n",
       "</style>\n",
       "<table border=\"1\" class=\"dataframe\">\n",
       "  <thead>\n",
       "    <tr style=\"text-align: right;\">\n",
       "      <th></th>\n",
       "      <th>fecha</th>\n",
       "      <th>usuario</th>\n",
       "    </tr>\n",
       "  </thead>\n",
       "  <tbody>\n",
       "    <tr>\n",
       "      <th>0</th>\n",
       "      <td>2021-02-12</td>\n",
       "      <td>RanbirS00614606</td>\n",
       "    </tr>\n",
       "    <tr>\n",
       "      <th>1</th>\n",
       "      <td>2021-02-13</td>\n",
       "      <td>rebelpacifist</td>\n",
       "    </tr>\n",
       "    <tr>\n",
       "      <th>2</th>\n",
       "      <td>2021-02-17</td>\n",
       "      <td>RaaJVinderkaur</td>\n",
       "    </tr>\n",
       "    <tr>\n",
       "      <th>3</th>\n",
       "      <td>2021-02-16</td>\n",
       "      <td>jot__b</td>\n",
       "    </tr>\n",
       "    <tr>\n",
       "      <th>4</th>\n",
       "      <td>2021-02-14</td>\n",
       "      <td>rebelpacifist</td>\n",
       "    </tr>\n",
       "    <tr>\n",
       "      <th>5</th>\n",
       "      <td>2021-02-18</td>\n",
       "      <td>rebelpacifist</td>\n",
       "    </tr>\n",
       "    <tr>\n",
       "      <th>6</th>\n",
       "      <td>2021-02-15</td>\n",
       "      <td>jot__b</td>\n",
       "    </tr>\n",
       "    <tr>\n",
       "      <th>7</th>\n",
       "      <td>2021-02-20</td>\n",
       "      <td>MangalJ23056160</td>\n",
       "    </tr>\n",
       "    <tr>\n",
       "      <th>8</th>\n",
       "      <td>2021-02-23</td>\n",
       "      <td>Surrypuria</td>\n",
       "    </tr>\n",
       "    <tr>\n",
       "      <th>9</th>\n",
       "      <td>2021-02-19</td>\n",
       "      <td>Preetm91</td>\n",
       "    </tr>\n",
       "  </tbody>\n",
       "</table>\n",
       "</div>"
      ],
      "text/plain": [
       "        fecha          usuario\n",
       "0  2021-02-12  RanbirS00614606\n",
       "1  2021-02-13    rebelpacifist\n",
       "2  2021-02-17   RaaJVinderkaur\n",
       "3  2021-02-16           jot__b\n",
       "4  2021-02-14    rebelpacifist\n",
       "5  2021-02-18    rebelpacifist\n",
       "6  2021-02-15           jot__b\n",
       "7  2021-02-20  MangalJ23056160\n",
       "8  2021-02-23       Surrypuria\n",
       "9  2021-02-19         Preetm91"
      ]
     },
     "execution_count": 15,
     "metadata": {},
     "output_type": "execute_result"
    }
   ],
   "source": [
    "df1 = pd.DataFrame(q1t, columns=['fecha', 'usuario'])\n",
    "print(\"Top 10 fechas con más tweets junto con el usuario que más tweets hizo en esa fecha\")\n",
    "df1"
   ]
  },
  {
   "cell_type": "code",
   "execution_count": 16,
   "metadata": {},
   "outputs": [
    {
     "name": "stdout",
     "output_type": "stream",
     "text": [
      "Top 10 fechas con más tweets junto con el usuario que más tweets hizo en esa fecha\n"
     ]
    },
    {
     "data": {
      "text/html": [
       "<div>\n",
       "<style scoped>\n",
       "    .dataframe tbody tr th:only-of-type {\n",
       "        vertical-align: middle;\n",
       "    }\n",
       "\n",
       "    .dataframe tbody tr th {\n",
       "        vertical-align: top;\n",
       "    }\n",
       "\n",
       "    .dataframe thead th {\n",
       "        text-align: right;\n",
       "    }\n",
       "</style>\n",
       "<table border=\"1\" class=\"dataframe\">\n",
       "  <thead>\n",
       "    <tr style=\"text-align: right;\">\n",
       "      <th></th>\n",
       "      <th>fecha</th>\n",
       "      <th>usuario</th>\n",
       "    </tr>\n",
       "  </thead>\n",
       "  <tbody>\n",
       "    <tr>\n",
       "      <th>0</th>\n",
       "      <td>2021-02-12</td>\n",
       "      <td>RanbirS00614606</td>\n",
       "    </tr>\n",
       "    <tr>\n",
       "      <th>1</th>\n",
       "      <td>2021-02-13</td>\n",
       "      <td>rebelpacifist</td>\n",
       "    </tr>\n",
       "    <tr>\n",
       "      <th>2</th>\n",
       "      <td>2021-02-17</td>\n",
       "      <td>RaaJVinderkaur</td>\n",
       "    </tr>\n",
       "    <tr>\n",
       "      <th>3</th>\n",
       "      <td>2021-02-16</td>\n",
       "      <td>jot__b</td>\n",
       "    </tr>\n",
       "    <tr>\n",
       "      <th>4</th>\n",
       "      <td>2021-02-14</td>\n",
       "      <td>rebelpacifist</td>\n",
       "    </tr>\n",
       "    <tr>\n",
       "      <th>5</th>\n",
       "      <td>2021-02-18</td>\n",
       "      <td>rebelpacifist</td>\n",
       "    </tr>\n",
       "    <tr>\n",
       "      <th>6</th>\n",
       "      <td>2021-02-15</td>\n",
       "      <td>jot__b</td>\n",
       "    </tr>\n",
       "    <tr>\n",
       "      <th>7</th>\n",
       "      <td>2021-02-20</td>\n",
       "      <td>MangalJ23056160</td>\n",
       "    </tr>\n",
       "    <tr>\n",
       "      <th>8</th>\n",
       "      <td>2021-02-23</td>\n",
       "      <td>Surrypuria</td>\n",
       "    </tr>\n",
       "    <tr>\n",
       "      <th>9</th>\n",
       "      <td>2021-02-19</td>\n",
       "      <td>Preetm91</td>\n",
       "    </tr>\n",
       "  </tbody>\n",
       "</table>\n",
       "</div>"
      ],
      "text/plain": [
       "        fecha          usuario\n",
       "0  2021-02-12  RanbirS00614606\n",
       "1  2021-02-13    rebelpacifist\n",
       "2  2021-02-17   RaaJVinderkaur\n",
       "3  2021-02-16           jot__b\n",
       "4  2021-02-14    rebelpacifist\n",
       "5  2021-02-18    rebelpacifist\n",
       "6  2021-02-15           jot__b\n",
       "7  2021-02-20  MangalJ23056160\n",
       "8  2021-02-23       Surrypuria\n",
       "9  2021-02-19         Preetm91"
      ]
     },
     "execution_count": 16,
     "metadata": {},
     "output_type": "execute_result"
    }
   ],
   "source": [
    "df2 = pd.DataFrame(q1m, columns=['fecha', 'usuario'])\n",
    "print(\"Top 10 fechas con más tweets junto con el usuario que más tweets hizo en esa fecha\")\n",
    "df2"
   ]
  },
  {
   "cell_type": "markdown",
   "metadata": {},
   "source": [
    "_Considerar: Al utilizar distintos métodos para las soluciones, se puede afectar la consistencia de los resultados cuando hay empates en la frecuencia._"
   ]
  },
  {
   "cell_type": "markdown",
   "metadata": {},
   "source": [
    "### Problema 2"
   ]
  },
  {
   "cell_type": "code",
   "execution_count": 2,
   "metadata": {},
   "outputs": [],
   "source": [
    "q2t = q2_time(json_files)\n",
    "q2m = q2_memory(json_files)"
   ]
  },
  {
   "cell_type": "markdown",
   "metadata": {},
   "source": [
    "#### Profiling"
   ]
  },
  {
   "cell_type": "code",
   "execution_count": 3,
   "metadata": {},
   "outputs": [
    {
     "name": "stdout",
     "output_type": "stream",
     "text": [
      "9.17 s ± 93.3 ms per loop (mean ± std. dev. of 7 runs, 1 loop each)\n",
      "9.52 s ± 79.8 ms per loop (mean ± std. dev. of 7 runs, 1 loop each)\n"
     ]
    }
   ],
   "source": [
    "%timeit q2_time(json_files);\n",
    "%timeit q2_memory(json_files);"
   ]
  },
  {
   "cell_type": "code",
   "execution_count": 4,
   "metadata": {},
   "outputs": [
    {
     "name": "stdout",
     "output_type": "stream",
     "text": [
      "peak memory: 178.09 MiB, increment: 12.03 MiB\n",
      "peak memory: 171.72 MiB, increment: 0.16 MiB\n"
     ]
    }
   ],
   "source": [
    "%memit q2_time(json_files);\n",
    "%memit q2_memory(json_files);"
   ]
  },
  {
   "cell_type": "markdown",
   "metadata": {},
   "source": [
    "La serialización de los datos a dataframe, y la ejecución de funciones a través del método \".apply()\" no convierten la obtención de resultados en un proceso más lento que ir leyendo linea por linea e ir procesando los textos inmediatamente."
   ]
  },
  {
   "cell_type": "markdown",
   "metadata": {},
   "source": [
    "#### Results"
   ]
  },
  {
   "cell_type": "code",
   "execution_count": 5,
   "metadata": {},
   "outputs": [
    {
     "name": "stdout",
     "output_type": "stream",
     "text": [
      "Top 10 emojis más utilizados\n"
     ]
    },
    {
     "data": {
      "text/html": [
       "<div>\n",
       "<style scoped>\n",
       "    .dataframe tbody tr th:only-of-type {\n",
       "        vertical-align: middle;\n",
       "    }\n",
       "\n",
       "    .dataframe tbody tr th {\n",
       "        vertical-align: top;\n",
       "    }\n",
       "\n",
       "    .dataframe thead th {\n",
       "        text-align: right;\n",
       "    }\n",
       "</style>\n",
       "<table border=\"1\" class=\"dataframe\">\n",
       "  <thead>\n",
       "    <tr style=\"text-align: right;\">\n",
       "      <th></th>\n",
       "      <th>emoji</th>\n",
       "      <th>frecuencia</th>\n",
       "    </tr>\n",
       "  </thead>\n",
       "  <tbody>\n",
       "    <tr>\n",
       "      <th>0</th>\n",
       "      <td>🙏</td>\n",
       "      <td>5049</td>\n",
       "    </tr>\n",
       "    <tr>\n",
       "      <th>1</th>\n",
       "      <td>😂</td>\n",
       "      <td>3072</td>\n",
       "    </tr>\n",
       "    <tr>\n",
       "      <th>2</th>\n",
       "      <td>🚜</td>\n",
       "      <td>2972</td>\n",
       "    </tr>\n",
       "    <tr>\n",
       "      <th>3</th>\n",
       "      <td>🌾</td>\n",
       "      <td>2182</td>\n",
       "    </tr>\n",
       "    <tr>\n",
       "      <th>4</th>\n",
       "      <td>🇮🇳</td>\n",
       "      <td>2086</td>\n",
       "    </tr>\n",
       "    <tr>\n",
       "      <th>5</th>\n",
       "      <td>🤣</td>\n",
       "      <td>1668</td>\n",
       "    </tr>\n",
       "    <tr>\n",
       "      <th>6</th>\n",
       "      <td>✊</td>\n",
       "      <td>1651</td>\n",
       "    </tr>\n",
       "    <tr>\n",
       "      <th>7</th>\n",
       "      <td>❤️</td>\n",
       "      <td>1382</td>\n",
       "    </tr>\n",
       "    <tr>\n",
       "      <th>8</th>\n",
       "      <td>🙏🏻</td>\n",
       "      <td>1317</td>\n",
       "    </tr>\n",
       "    <tr>\n",
       "      <th>9</th>\n",
       "      <td>💚</td>\n",
       "      <td>1040</td>\n",
       "    </tr>\n",
       "  </tbody>\n",
       "</table>\n",
       "</div>"
      ],
      "text/plain": [
       "  emoji  frecuencia\n",
       "0     🙏        5049\n",
       "1     😂        3072\n",
       "2     🚜        2972\n",
       "3     🌾        2182\n",
       "4    🇮🇳        2086\n",
       "5     🤣        1668\n",
       "6     ✊        1651\n",
       "7    ❤️        1382\n",
       "8    🙏🏻        1317\n",
       "9     💚        1040"
      ]
     },
     "execution_count": 5,
     "metadata": {},
     "output_type": "execute_result"
    }
   ],
   "source": [
    "print(\"Top 10 emojis más utilizados\")\n",
    "df3 = pd.DataFrame(q2t, columns=['emoji', 'frecuencia'])\n",
    "df3"
   ]
  },
  {
   "cell_type": "code",
   "execution_count": 6,
   "metadata": {},
   "outputs": [
    {
     "name": "stdout",
     "output_type": "stream",
     "text": [
      "Top 10 emojis más utilizados\n"
     ]
    },
    {
     "data": {
      "text/html": [
       "<div>\n",
       "<style scoped>\n",
       "    .dataframe tbody tr th:only-of-type {\n",
       "        vertical-align: middle;\n",
       "    }\n",
       "\n",
       "    .dataframe tbody tr th {\n",
       "        vertical-align: top;\n",
       "    }\n",
       "\n",
       "    .dataframe thead th {\n",
       "        text-align: right;\n",
       "    }\n",
       "</style>\n",
       "<table border=\"1\" class=\"dataframe\">\n",
       "  <thead>\n",
       "    <tr style=\"text-align: right;\">\n",
       "      <th></th>\n",
       "      <th>emoji</th>\n",
       "      <th>frecuencia</th>\n",
       "    </tr>\n",
       "  </thead>\n",
       "  <tbody>\n",
       "    <tr>\n",
       "      <th>0</th>\n",
       "      <td>🙏</td>\n",
       "      <td>5049</td>\n",
       "    </tr>\n",
       "    <tr>\n",
       "      <th>1</th>\n",
       "      <td>😂</td>\n",
       "      <td>3072</td>\n",
       "    </tr>\n",
       "    <tr>\n",
       "      <th>2</th>\n",
       "      <td>🚜</td>\n",
       "      <td>2972</td>\n",
       "    </tr>\n",
       "    <tr>\n",
       "      <th>3</th>\n",
       "      <td>🌾</td>\n",
       "      <td>2182</td>\n",
       "    </tr>\n",
       "    <tr>\n",
       "      <th>4</th>\n",
       "      <td>🇮🇳</td>\n",
       "      <td>2086</td>\n",
       "    </tr>\n",
       "    <tr>\n",
       "      <th>5</th>\n",
       "      <td>🤣</td>\n",
       "      <td>1668</td>\n",
       "    </tr>\n",
       "    <tr>\n",
       "      <th>6</th>\n",
       "      <td>✊</td>\n",
       "      <td>1651</td>\n",
       "    </tr>\n",
       "    <tr>\n",
       "      <th>7</th>\n",
       "      <td>❤️</td>\n",
       "      <td>1382</td>\n",
       "    </tr>\n",
       "    <tr>\n",
       "      <th>8</th>\n",
       "      <td>🙏🏻</td>\n",
       "      <td>1317</td>\n",
       "    </tr>\n",
       "    <tr>\n",
       "      <th>9</th>\n",
       "      <td>💚</td>\n",
       "      <td>1040</td>\n",
       "    </tr>\n",
       "  </tbody>\n",
       "</table>\n",
       "</div>"
      ],
      "text/plain": [
       "  emoji  frecuencia\n",
       "0     🙏        5049\n",
       "1     😂        3072\n",
       "2     🚜        2972\n",
       "3     🌾        2182\n",
       "4    🇮🇳        2086\n",
       "5     🤣        1668\n",
       "6     ✊        1651\n",
       "7    ❤️        1382\n",
       "8    🙏🏻        1317\n",
       "9     💚        1040"
      ]
     },
     "execution_count": 6,
     "metadata": {},
     "output_type": "execute_result"
    }
   ],
   "source": [
    "print(\"Top 10 emojis más utilizados\")\n",
    "df4 = pd.DataFrame(q2m, columns=['emoji', 'frecuencia'])\n",
    "df4"
   ]
  },
  {
   "cell_type": "markdown",
   "metadata": {},
   "source": [
    "### Problema 3\n",
    "La similitud del problema con una red me dio la idea de crear una versión de la solución como grafo, donde la solución está en extraer los 10 nodos con mayor grado de entrada, y la otra solución, simplemente contar la frecuencia con un diccionario."
   ]
  },
  {
   "cell_type": "code",
   "execution_count": 21,
   "metadata": {},
   "outputs": [],
   "source": [
    "q3t = q3_time(json_files)\n",
    "q3m = q3_memory(json_files)"
   ]
  },
  {
   "cell_type": "markdown",
   "metadata": {},
   "source": [
    "#### Profiling"
   ]
  },
  {
   "cell_type": "code",
   "execution_count": 30,
   "metadata": {},
   "outputs": [
    {
     "name": "stdout",
     "output_type": "stream",
     "text": [
      "2.45 s ± 21.9 ms per loop (mean ± std. dev. of 7 runs, 1 loop each)\n",
      "2.32 s ± 9.06 ms per loop (mean ± std. dev. of 7 runs, 1 loop each)\n"
     ]
    }
   ],
   "source": [
    "%timeit q3_time(json_files);\n",
    "%timeit q3_memory(json_files);"
   ]
  },
  {
   "cell_type": "code",
   "execution_count": 31,
   "metadata": {},
   "outputs": [
    {
     "name": "stdout",
     "output_type": "stream",
     "text": [
      "peak memory: 161.94 MiB, increment: 0.20 MiB\n",
      "peak memory: 161.95 MiB, increment: 0.16 MiB\n"
     ]
    }
   ],
   "source": [
    "%memit q3_time(json_files);\n",
    "%memit q3_memory(json_files);"
   ]
  },
  {
   "cell_type": "markdown",
   "metadata": {},
   "source": [
    "El que los resultados sean tan similares es interesante por el hecho que tener los datos almacenados como grafos, da mayores ventajas en cuanto a la extracción de información valiosa, partiendo por que se podrían utilizar otras medidas de centralidad o \"importancia\" como PageRank, betwenness, entre otros."
   ]
  },
  {
   "cell_type": "markdown",
   "metadata": {},
   "source": [
    "#### Results"
   ]
  },
  {
   "cell_type": "code",
   "execution_count": 22,
   "metadata": {},
   "outputs": [
    {
     "name": "stdout",
     "output_type": "stream",
     "text": [
      "Top 10 usuarios con más menciones\n"
     ]
    },
    {
     "data": {
      "text/html": [
       "<div>\n",
       "<style scoped>\n",
       "    .dataframe tbody tr th:only-of-type {\n",
       "        vertical-align: middle;\n",
       "    }\n",
       "\n",
       "    .dataframe tbody tr th {\n",
       "        vertical-align: top;\n",
       "    }\n",
       "\n",
       "    .dataframe thead th {\n",
       "        text-align: right;\n",
       "    }\n",
       "</style>\n",
       "<table border=\"1\" class=\"dataframe\">\n",
       "  <thead>\n",
       "    <tr style=\"text-align: right;\">\n",
       "      <th></th>\n",
       "      <th>usuario</th>\n",
       "      <th>frecuencia</th>\n",
       "    </tr>\n",
       "  </thead>\n",
       "  <tbody>\n",
       "    <tr>\n",
       "      <th>0</th>\n",
       "      <td>narendramodi</td>\n",
       "      <td>2265</td>\n",
       "    </tr>\n",
       "    <tr>\n",
       "      <th>1</th>\n",
       "      <td>Kisanektamorcha</td>\n",
       "      <td>1840</td>\n",
       "    </tr>\n",
       "    <tr>\n",
       "      <th>2</th>\n",
       "      <td>RakeshTikaitBKU</td>\n",
       "      <td>1644</td>\n",
       "    </tr>\n",
       "    <tr>\n",
       "      <th>3</th>\n",
       "      <td>PMOIndia</td>\n",
       "      <td>1427</td>\n",
       "    </tr>\n",
       "    <tr>\n",
       "      <th>4</th>\n",
       "      <td>RahulGandhi</td>\n",
       "      <td>1146</td>\n",
       "    </tr>\n",
       "    <tr>\n",
       "      <th>5</th>\n",
       "      <td>GretaThunberg</td>\n",
       "      <td>1048</td>\n",
       "    </tr>\n",
       "    <tr>\n",
       "      <th>6</th>\n",
       "      <td>RaviSinghKA</td>\n",
       "      <td>1019</td>\n",
       "    </tr>\n",
       "    <tr>\n",
       "      <th>7</th>\n",
       "      <td>rihanna</td>\n",
       "      <td>986</td>\n",
       "    </tr>\n",
       "    <tr>\n",
       "      <th>8</th>\n",
       "      <td>UNHumanRights</td>\n",
       "      <td>962</td>\n",
       "    </tr>\n",
       "    <tr>\n",
       "      <th>9</th>\n",
       "      <td>meenaharris</td>\n",
       "      <td>926</td>\n",
       "    </tr>\n",
       "  </tbody>\n",
       "</table>\n",
       "</div>"
      ],
      "text/plain": [
       "           usuario  frecuencia\n",
       "0     narendramodi        2265\n",
       "1  Kisanektamorcha        1840\n",
       "2  RakeshTikaitBKU        1644\n",
       "3         PMOIndia        1427\n",
       "4      RahulGandhi        1146\n",
       "5    GretaThunberg        1048\n",
       "6      RaviSinghKA        1019\n",
       "7          rihanna         986\n",
       "8    UNHumanRights         962\n",
       "9      meenaharris         926"
      ]
     },
     "execution_count": 22,
     "metadata": {},
     "output_type": "execute_result"
    }
   ],
   "source": [
    "df5 = pd.DataFrame(q3t, columns=['usuario', 'frecuencia'])\n",
    "print(\"Top 10 usuarios con más menciones\")\n",
    "df5"
   ]
  },
  {
   "cell_type": "code",
   "execution_count": 23,
   "metadata": {},
   "outputs": [
    {
     "name": "stdout",
     "output_type": "stream",
     "text": [
      "Top 10 usuarios con más menciones\n"
     ]
    },
    {
     "data": {
      "text/html": [
       "<div>\n",
       "<style scoped>\n",
       "    .dataframe tbody tr th:only-of-type {\n",
       "        vertical-align: middle;\n",
       "    }\n",
       "\n",
       "    .dataframe tbody tr th {\n",
       "        vertical-align: top;\n",
       "    }\n",
       "\n",
       "    .dataframe thead th {\n",
       "        text-align: right;\n",
       "    }\n",
       "</style>\n",
       "<table border=\"1\" class=\"dataframe\">\n",
       "  <thead>\n",
       "    <tr style=\"text-align: right;\">\n",
       "      <th></th>\n",
       "      <th>usuario</th>\n",
       "      <th>frecuencia</th>\n",
       "    </tr>\n",
       "  </thead>\n",
       "  <tbody>\n",
       "    <tr>\n",
       "      <th>0</th>\n",
       "      <td>narendramodi</td>\n",
       "      <td>2265</td>\n",
       "    </tr>\n",
       "    <tr>\n",
       "      <th>1</th>\n",
       "      <td>Kisanektamorcha</td>\n",
       "      <td>1840</td>\n",
       "    </tr>\n",
       "    <tr>\n",
       "      <th>2</th>\n",
       "      <td>RakeshTikaitBKU</td>\n",
       "      <td>1644</td>\n",
       "    </tr>\n",
       "    <tr>\n",
       "      <th>3</th>\n",
       "      <td>PMOIndia</td>\n",
       "      <td>1427</td>\n",
       "    </tr>\n",
       "    <tr>\n",
       "      <th>4</th>\n",
       "      <td>RahulGandhi</td>\n",
       "      <td>1146</td>\n",
       "    </tr>\n",
       "    <tr>\n",
       "      <th>5</th>\n",
       "      <td>GretaThunberg</td>\n",
       "      <td>1048</td>\n",
       "    </tr>\n",
       "    <tr>\n",
       "      <th>6</th>\n",
       "      <td>RaviSinghKA</td>\n",
       "      <td>1019</td>\n",
       "    </tr>\n",
       "    <tr>\n",
       "      <th>7</th>\n",
       "      <td>rihanna</td>\n",
       "      <td>986</td>\n",
       "    </tr>\n",
       "    <tr>\n",
       "      <th>8</th>\n",
       "      <td>UNHumanRights</td>\n",
       "      <td>962</td>\n",
       "    </tr>\n",
       "    <tr>\n",
       "      <th>9</th>\n",
       "      <td>meenaharris</td>\n",
       "      <td>926</td>\n",
       "    </tr>\n",
       "  </tbody>\n",
       "</table>\n",
       "</div>"
      ],
      "text/plain": [
       "           usuario  frecuencia\n",
       "0     narendramodi        2265\n",
       "1  Kisanektamorcha        1840\n",
       "2  RakeshTikaitBKU        1644\n",
       "3         PMOIndia        1427\n",
       "4      RahulGandhi        1146\n",
       "5    GretaThunberg        1048\n",
       "6      RaviSinghKA        1019\n",
       "7          rihanna         986\n",
       "8    UNHumanRights         962\n",
       "9      meenaharris         926"
      ]
     },
     "execution_count": 23,
     "metadata": {},
     "output_type": "execute_result"
    }
   ],
   "source": [
    "df6 = pd.DataFrame(q3m, columns=['usuario', 'frecuencia'])\n",
    "print(\"Top 10 usuarios con más menciones\")\n",
    "df6"
   ]
  }
 ],
 "metadata": {
  "kernelspec": {
   "display_name": "Python 3",
   "language": "python",
   "name": "python3"
  },
  "language_info": {
   "codemirror_mode": {
    "name": "ipython",
    "version": 3
   },
   "file_extension": ".py",
   "mimetype": "text/x-python",
   "name": "python",
   "nbconvert_exporter": "python",
   "pygments_lexer": "ipython3",
   "version": "3.12.7"
  },
  "orig_nbformat": 4
 },
 "nbformat": 4,
 "nbformat_minor": 2
}
